{
 "cells": [
  {
   "cell_type": "markdown",
   "metadata": {},
   "source": [
    "# Vancouver Crime Predictor\n",
    "\n",
    "## Intro\n",
    "\n",
    "This project is to see if we can predict the type of crime in Vancouver, BC, Canada based of the following data points:\n",
    "- Year\n",
    "- Month\n",
    "- Day\n",
    "- Hour\n",
    "- Hundred Block\n",
    "- Neighbourhood\n",
    "- X cord\n",
    "- Y cord\n",
    "\n",
    "## NULL hypothesis \n",
    "- The above fields have no correlation to the type of crime\n",
    "\n",
    "## Hypothesis \n",
    "- One or more of the fields have a correlation \n",
    "\n",
    "## Dataset\n",
    "We are taking the "
   ]
  },
  {
   "cell_type": "markdown",
   "metadata": {},
   "source": [
    "## Data Exploration\n",
    "lets see what we can get from an initial exploration of the data"
   ]
  },
  {
   "cell_type": "code",
   "execution_count": 1,
   "metadata": {},
   "outputs": [],
   "source": [
    "import pandas as pd\n",
    "import numpy as np\n",
    "import seaborn as sns\n",
    "import matplotlib.pyplot as plt\n",
    "\n",
    "%matplotlib inline"
   ]
  },
  {
   "cell_type": "code",
   "execution_count": 2,
   "metadata": {},
   "outputs": [],
   "source": [
    "# Load our data\n",
    "df = pd.read_csv('./crimedata_csv_AllNeighbourhoods_AllYears.csv')"
   ]
  },
  {
   "cell_type": "code",
   "execution_count": 3,
   "metadata": {},
   "outputs": [
    {
     "data": {
      "text/html": [
       "<div>\n",
       "<style scoped>\n",
       "    .dataframe tbody tr th:only-of-type {\n",
       "        vertical-align: middle;\n",
       "    }\n",
       "\n",
       "    .dataframe tbody tr th {\n",
       "        vertical-align: top;\n",
       "    }\n",
       "\n",
       "    .dataframe thead th {\n",
       "        text-align: right;\n",
       "    }\n",
       "</style>\n",
       "<table border=\"1\" class=\"dataframe\">\n",
       "  <thead>\n",
       "    <tr style=\"text-align: right;\">\n",
       "      <th></th>\n",
       "      <th>TYPE</th>\n",
       "      <th>YEAR</th>\n",
       "      <th>MONTH</th>\n",
       "      <th>DAY</th>\n",
       "      <th>HOUR</th>\n",
       "      <th>MINUTE</th>\n",
       "      <th>HUNDRED_BLOCK</th>\n",
       "      <th>NEIGHBOURHOOD</th>\n",
       "      <th>X</th>\n",
       "      <th>Y</th>\n",
       "    </tr>\n",
       "  </thead>\n",
       "  <tbody>\n",
       "    <tr>\n",
       "      <th>0</th>\n",
       "      <td>Break and Enter Commercial</td>\n",
       "      <td>2012</td>\n",
       "      <td>12</td>\n",
       "      <td>14</td>\n",
       "      <td>8</td>\n",
       "      <td>52</td>\n",
       "      <td>NaN</td>\n",
       "      <td>Oakridge</td>\n",
       "      <td>491285.0000</td>\n",
       "      <td>5.453433e+06</td>\n",
       "    </tr>\n",
       "    <tr>\n",
       "      <th>1</th>\n",
       "      <td>Break and Enter Commercial</td>\n",
       "      <td>2019</td>\n",
       "      <td>3</td>\n",
       "      <td>7</td>\n",
       "      <td>2</td>\n",
       "      <td>6</td>\n",
       "      <td>10XX SITKA SQ</td>\n",
       "      <td>Fairview</td>\n",
       "      <td>490612.9648</td>\n",
       "      <td>5.457110e+06</td>\n",
       "    </tr>\n",
       "    <tr>\n",
       "      <th>2</th>\n",
       "      <td>Break and Enter Commercial</td>\n",
       "      <td>2019</td>\n",
       "      <td>8</td>\n",
       "      <td>27</td>\n",
       "      <td>4</td>\n",
       "      <td>12</td>\n",
       "      <td>10XX ALBERNI ST</td>\n",
       "      <td>West End</td>\n",
       "      <td>491004.8164</td>\n",
       "      <td>5.459177e+06</td>\n",
       "    </tr>\n",
       "    <tr>\n",
       "      <th>3</th>\n",
       "      <td>Break and Enter Commercial</td>\n",
       "      <td>2021</td>\n",
       "      <td>4</td>\n",
       "      <td>26</td>\n",
       "      <td>4</td>\n",
       "      <td>44</td>\n",
       "      <td>10XX ALBERNI ST</td>\n",
       "      <td>West End</td>\n",
       "      <td>491007.7798</td>\n",
       "      <td>5.459174e+06</td>\n",
       "    </tr>\n",
       "    <tr>\n",
       "      <th>4</th>\n",
       "      <td>Break and Enter Commercial</td>\n",
       "      <td>2014</td>\n",
       "      <td>8</td>\n",
       "      <td>8</td>\n",
       "      <td>5</td>\n",
       "      <td>13</td>\n",
       "      <td>10XX ALBERNI ST</td>\n",
       "      <td>West End</td>\n",
       "      <td>491015.9434</td>\n",
       "      <td>5.459166e+06</td>\n",
       "    </tr>\n",
       "    <tr>\n",
       "      <th>5</th>\n",
       "      <td>Break and Enter Commercial</td>\n",
       "      <td>2020</td>\n",
       "      <td>7</td>\n",
       "      <td>28</td>\n",
       "      <td>19</td>\n",
       "      <td>12</td>\n",
       "      <td>10XX ALBERNI ST</td>\n",
       "      <td>West End</td>\n",
       "      <td>491015.9434</td>\n",
       "      <td>5.459166e+06</td>\n",
       "    </tr>\n",
       "    <tr>\n",
       "      <th>6</th>\n",
       "      <td>Break and Enter Commercial</td>\n",
       "      <td>2021</td>\n",
       "      <td>11</td>\n",
       "      <td>21</td>\n",
       "      <td>6</td>\n",
       "      <td>33</td>\n",
       "      <td>10XX ALBERNI ST</td>\n",
       "      <td>West End</td>\n",
       "      <td>491015.9434</td>\n",
       "      <td>5.459166e+06</td>\n",
       "    </tr>\n",
       "    <tr>\n",
       "      <th>7</th>\n",
       "      <td>Break and Enter Commercial</td>\n",
       "      <td>2022</td>\n",
       "      <td>1</td>\n",
       "      <td>5</td>\n",
       "      <td>7</td>\n",
       "      <td>34</td>\n",
       "      <td>10XX ALBERNI ST</td>\n",
       "      <td>West End</td>\n",
       "      <td>491015.9434</td>\n",
       "      <td>5.459166e+06</td>\n",
       "    </tr>\n",
       "    <tr>\n",
       "      <th>8</th>\n",
       "      <td>Break and Enter Commercial</td>\n",
       "      <td>2005</td>\n",
       "      <td>11</td>\n",
       "      <td>14</td>\n",
       "      <td>3</td>\n",
       "      <td>9</td>\n",
       "      <td>10XX ALBERNI ST</td>\n",
       "      <td>West End</td>\n",
       "      <td>491021.3857</td>\n",
       "      <td>5.459161e+06</td>\n",
       "    </tr>\n",
       "    <tr>\n",
       "      <th>9</th>\n",
       "      <td>Break and Enter Commercial</td>\n",
       "      <td>2006</td>\n",
       "      <td>5</td>\n",
       "      <td>21</td>\n",
       "      <td>4</td>\n",
       "      <td>50</td>\n",
       "      <td>10XX ALBERNI ST</td>\n",
       "      <td>West End</td>\n",
       "      <td>491021.3857</td>\n",
       "      <td>5.459161e+06</td>\n",
       "    </tr>\n",
       "  </tbody>\n",
       "</table>\n",
       "</div>"
      ],
      "text/plain": [
       "                         TYPE  YEAR  MONTH  DAY  HOUR  MINUTE  \\\n",
       "0  Break and Enter Commercial  2012     12   14     8      52   \n",
       "1  Break and Enter Commercial  2019      3    7     2       6   \n",
       "2  Break and Enter Commercial  2019      8   27     4      12   \n",
       "3  Break and Enter Commercial  2021      4   26     4      44   \n",
       "4  Break and Enter Commercial  2014      8    8     5      13   \n",
       "5  Break and Enter Commercial  2020      7   28    19      12   \n",
       "6  Break and Enter Commercial  2021     11   21     6      33   \n",
       "7  Break and Enter Commercial  2022      1    5     7      34   \n",
       "8  Break and Enter Commercial  2005     11   14     3       9   \n",
       "9  Break and Enter Commercial  2006      5   21     4      50   \n",
       "\n",
       "     HUNDRED_BLOCK NEIGHBOURHOOD            X             Y  \n",
       "0              NaN      Oakridge  491285.0000  5.453433e+06  \n",
       "1    10XX SITKA SQ      Fairview  490612.9648  5.457110e+06  \n",
       "2  10XX ALBERNI ST      West End  491004.8164  5.459177e+06  \n",
       "3  10XX ALBERNI ST      West End  491007.7798  5.459174e+06  \n",
       "4  10XX ALBERNI ST      West End  491015.9434  5.459166e+06  \n",
       "5  10XX ALBERNI ST      West End  491015.9434  5.459166e+06  \n",
       "6  10XX ALBERNI ST      West End  491015.9434  5.459166e+06  \n",
       "7  10XX ALBERNI ST      West End  491015.9434  5.459166e+06  \n",
       "8  10XX ALBERNI ST      West End  491021.3857  5.459161e+06  \n",
       "9  10XX ALBERNI ST      West End  491021.3857  5.459161e+06  "
      ]
     },
     "execution_count": 3,
     "metadata": {},
     "output_type": "execute_result"
    }
   ],
   "source": [
    "df.head(10)"
   ]
  },
  {
   "cell_type": "code",
   "execution_count": 4,
   "metadata": {},
   "outputs": [
    {
     "name": "stdout",
     "output_type": "stream",
     "text": [
      "<class 'pandas.core.frame.DataFrame'>\n",
      "RangeIndex: 895614 entries, 0 to 895613\n",
      "Data columns (total 10 columns):\n",
      " #   Column         Non-Null Count   Dtype  \n",
      "---  ------         --------------   -----  \n",
      " 0   TYPE           895614 non-null  object \n",
      " 1   YEAR           895614 non-null  int64  \n",
      " 2   MONTH          895614 non-null  int64  \n",
      " 3   DAY            895614 non-null  int64  \n",
      " 4   HOUR           895614 non-null  int64  \n",
      " 5   MINUTE         895614 non-null  int64  \n",
      " 6   HUNDRED_BLOCK  895602 non-null  object \n",
      " 7   NEIGHBOURHOOD  895466 non-null  object \n",
      " 8   X              895538 non-null  float64\n",
      " 9   Y              895538 non-null  float64\n",
      "dtypes: float64(2), int64(5), object(3)\n",
      "memory usage: 68.3+ MB\n"
     ]
    }
   ],
   "source": [
    "df.info()"
   ]
  },
  {
   "cell_type": "code",
   "execution_count": 5,
   "metadata": {},
   "outputs": [
    {
     "data": {
      "text/html": [
       "<div>\n",
       "<style scoped>\n",
       "    .dataframe tbody tr th:only-of-type {\n",
       "        vertical-align: middle;\n",
       "    }\n",
       "\n",
       "    .dataframe tbody tr th {\n",
       "        vertical-align: top;\n",
       "    }\n",
       "\n",
       "    .dataframe thead th {\n",
       "        text-align: right;\n",
       "    }\n",
       "</style>\n",
       "<table border=\"1\" class=\"dataframe\">\n",
       "  <thead>\n",
       "    <tr style=\"text-align: right;\">\n",
       "      <th></th>\n",
       "      <th>YEAR</th>\n",
       "      <th>MONTH</th>\n",
       "      <th>DAY</th>\n",
       "      <th>HOUR</th>\n",
       "      <th>MINUTE</th>\n",
       "      <th>X</th>\n",
       "      <th>Y</th>\n",
       "    </tr>\n",
       "  </thead>\n",
       "  <tbody>\n",
       "    <tr>\n",
       "      <th>count</th>\n",
       "      <td>895614.000000</td>\n",
       "      <td>895614.000000</td>\n",
       "      <td>895614.000000</td>\n",
       "      <td>895614.000000</td>\n",
       "      <td>895614.000000</td>\n",
       "      <td>895538.000000</td>\n",
       "      <td>8.955380e+05</td>\n",
       "    </tr>\n",
       "    <tr>\n",
       "      <th>mean</th>\n",
       "      <td>2012.465785</td>\n",
       "      <td>6.498994</td>\n",
       "      <td>15.386441</td>\n",
       "      <td>12.301045</td>\n",
       "      <td>15.897696</td>\n",
       "      <td>448722.045469</td>\n",
       "      <td>4.974653e+06</td>\n",
       "    </tr>\n",
       "    <tr>\n",
       "      <th>std</th>\n",
       "      <td>6.309667</td>\n",
       "      <td>3.413187</td>\n",
       "      <td>8.758797</td>\n",
       "      <td>7.466049</td>\n",
       "      <td>18.372942</td>\n",
       "      <td>139724.845646</td>\n",
       "      <td>1.548779e+06</td>\n",
       "    </tr>\n",
       "    <tr>\n",
       "      <th>min</th>\n",
       "      <td>2003.000000</td>\n",
       "      <td>1.000000</td>\n",
       "      <td>1.000000</td>\n",
       "      <td>0.000000</td>\n",
       "      <td>0.000000</td>\n",
       "      <td>0.000000</td>\n",
       "      <td>0.000000e+00</td>\n",
       "    </tr>\n",
       "    <tr>\n",
       "      <th>25%</th>\n",
       "      <td>2007.000000</td>\n",
       "      <td>4.000000</td>\n",
       "      <td>8.000000</td>\n",
       "      <td>7.000000</td>\n",
       "      <td>0.000000</td>\n",
       "      <td>490188.474100</td>\n",
       "      <td>5.454204e+06</td>\n",
       "    </tr>\n",
       "    <tr>\n",
       "      <th>50%</th>\n",
       "      <td>2012.000000</td>\n",
       "      <td>7.000000</td>\n",
       "      <td>15.000000</td>\n",
       "      <td>14.000000</td>\n",
       "      <td>5.000000</td>\n",
       "      <td>491572.112500</td>\n",
       "      <td>5.457169e+06</td>\n",
       "    </tr>\n",
       "    <tr>\n",
       "      <th>75%</th>\n",
       "      <td>2018.000000</td>\n",
       "      <td>9.000000</td>\n",
       "      <td>23.000000</td>\n",
       "      <td>18.000000</td>\n",
       "      <td>30.000000</td>\n",
       "      <td>493378.640800</td>\n",
       "      <td>5.458718e+06</td>\n",
       "    </tr>\n",
       "    <tr>\n",
       "      <th>max</th>\n",
       "      <td>2024.000000</td>\n",
       "      <td>12.000000</td>\n",
       "      <td>31.000000</td>\n",
       "      <td>23.000000</td>\n",
       "      <td>59.000000</td>\n",
       "      <td>511303.000000</td>\n",
       "      <td>5.512579e+06</td>\n",
       "    </tr>\n",
       "  </tbody>\n",
       "</table>\n",
       "</div>"
      ],
      "text/plain": [
       "                YEAR          MONTH            DAY           HOUR  \\\n",
       "count  895614.000000  895614.000000  895614.000000  895614.000000   \n",
       "mean     2012.465785       6.498994      15.386441      12.301045   \n",
       "std         6.309667       3.413187       8.758797       7.466049   \n",
       "min      2003.000000       1.000000       1.000000       0.000000   \n",
       "25%      2007.000000       4.000000       8.000000       7.000000   \n",
       "50%      2012.000000       7.000000      15.000000      14.000000   \n",
       "75%      2018.000000       9.000000      23.000000      18.000000   \n",
       "max      2024.000000      12.000000      31.000000      23.000000   \n",
       "\n",
       "              MINUTE              X             Y  \n",
       "count  895614.000000  895538.000000  8.955380e+05  \n",
       "mean       15.897696  448722.045469  4.974653e+06  \n",
       "std        18.372942  139724.845646  1.548779e+06  \n",
       "min         0.000000       0.000000  0.000000e+00  \n",
       "25%         0.000000  490188.474100  5.454204e+06  \n",
       "50%         5.000000  491572.112500  5.457169e+06  \n",
       "75%        30.000000  493378.640800  5.458718e+06  \n",
       "max        59.000000  511303.000000  5.512579e+06  "
      ]
     },
     "execution_count": 5,
     "metadata": {},
     "output_type": "execute_result"
    }
   ],
   "source": [
    "df.describe()"
   ]
  },
  {
   "cell_type": "markdown",
   "metadata": {},
   "source": [
    "### Lets explore our data and see if we can find any correlations before training"
   ]
  },
  {
   "cell_type": "code",
   "execution_count": 6,
   "metadata": {},
   "outputs": [
    {
     "name": "stdout",
     "output_type": "stream",
     "text": [
      "895614\n",
      "TYPE             895614\n",
      "YEAR             895614\n",
      "MONTH            895614\n",
      "DAY              895614\n",
      "HOUR             895614\n",
      "MINUTE           895614\n",
      "HUNDRED_BLOCK    895602\n",
      "NEIGHBOURHOOD    895466\n",
      "X                895538\n",
      "Y                895538\n",
      "dtype: int64\n",
      "missing 12 from hundred_block\n",
      "missing 148 from hundred_block\n",
      "missing 76 from hundred_block\n",
      "missing 76 from hundred_block\n"
     ]
    }
   ],
   "source": [
    "print(len(df))\n",
    "total_records = len(df)\n",
    "print(df.count())\n",
    "\n",
    "print('missing {} from hundred_block'.format(total_records - df['HUNDRED_BLOCK'].count()))\n",
    "print('missing {} from hundred_block'.format(total_records - df['NEIGHBOURHOOD'].count()))\n",
    "print('missing {} from hundred_block'.format(total_records - df['X'].count()))\n",
    "print('missing {} from hundred_block'.format(total_records - df['Y'].count()))"
   ]
  },
  {
   "cell_type": "markdown",
   "metadata": {},
   "source": [
    "## We have a very small sample of missing data, dropping it should have zero impact "
   ]
  },
  {
   "cell_type": "code",
   "execution_count": 7,
   "metadata": {},
   "outputs": [
    {
     "data": {
      "text/plain": [
       "TYPE             895454\n",
       "YEAR             895454\n",
       "MONTH            895454\n",
       "DAY              895454\n",
       "HOUR             895454\n",
       "MINUTE           895454\n",
       "HUNDRED_BLOCK    895454\n",
       "NEIGHBOURHOOD    895454\n",
       "X                895454\n",
       "Y                895454\n",
       "dtype: int64"
      ]
     },
     "execution_count": 7,
     "metadata": {},
     "output_type": "execute_result"
    }
   ],
   "source": [
    "df = df.dropna()\n",
    "df.count()"
   ]
  },
  {
   "cell_type": "markdown",
   "metadata": {},
   "source": [
    "# Let's graph crimes by year"
   ]
  },
  {
   "cell_type": "code",
   "execution_count": 8,
   "metadata": {},
   "outputs": [
    {
     "name": "stdout",
     "output_type": "stream",
     "text": [
      "       TYPE  MONTH    DAY   HOUR  MINUTE  HUNDRED_BLOCK  NEIGHBOURHOOD      X  \\\n",
      "YEAR                                                                            \n",
      "2003  58786  58786  58786  58786   58786          58786          58786  58786   \n",
      "2004  58076  58076  58076  58076   58076          58076          58076  58076   \n",
      "2005  53395  53395  53395  53395   53395          53395          53395  53395   \n",
      "2006  49620  49620  49620  49620   49620          49620          49620  49620   \n",
      "2007  44374  44374  44374  44374   44374          44374          44374  44374   \n",
      "2008  41694  41694  41694  41694   41694          41694          41694  41694   \n",
      "2009  37967  37967  37967  37967   37967          37967          37967  37967   \n",
      "2010  35631  35631  35631  35631   35631          35631          35631  35631   \n",
      "2011  34404  34404  34404  34404   34404          34404          34404  34404   \n",
      "2012  35491  35491  35491  35491   35491          35491          35491  35491   \n",
      "2013  35777  35777  35777  35777   35777          35777          35777  35777   \n",
      "2014  39199  39199  39199  39199   39199          39199          39199  39199   \n",
      "2015  40222  40222  40222  40222   40222          40222          40222  40222   \n",
      "2016  44082  44082  44082  44082   44082          44082          44082  44082   \n",
      "2017  43226  43226  43226  43226   43226          43226          43226  43226   \n",
      "2018  44268  44268  44268  44268   44268          44268          44268  44268   \n",
      "2019  48163  48163  48163  48163   48163          48163          48163  48163   \n",
      "2020  37543  37543  37543  37543   37543          37543          37543  37543   \n",
      "2021  32198  32198  32198  32198   32198          32198          32198  32198   \n",
      "2022  34305  34305  34305  34305   34305          34305          34305  34305   \n",
      "2023  36639  36639  36639  36639   36639          36639          36639  36639   \n",
      "2024  10394  10394  10394  10394   10394          10394          10394  10394   \n",
      "\n",
      "          Y  \n",
      "YEAR         \n",
      "2003  58786  \n",
      "2004  58076  \n",
      "2005  53395  \n",
      "2006  49620  \n",
      "2007  44374  \n",
      "2008  41694  \n",
      "2009  37967  \n",
      "2010  35631  \n",
      "2011  34404  \n",
      "2012  35491  \n",
      "2013  35777  \n",
      "2014  39199  \n",
      "2015  40222  \n",
      "2016  44082  \n",
      "2017  43226  \n",
      "2018  44268  \n",
      "2019  48163  \n",
      "2020  37543  \n",
      "2021  32198  \n",
      "2022  34305  \n",
      "2023  36639  \n",
      "2024  10394  \n"
     ]
    },
    {
     "name": "stderr",
     "output_type": "stream",
     "text": [
      "/home/gil/miniconda3/envs/van-crime/lib/python3.10/site-packages/seaborn/_oldcore.py:1119: FutureWarning: use_inf_as_na option is deprecated and will be removed in a future version. Convert inf values to NaN before operating instead.\n",
      "  with pd.option_context('mode.use_inf_as_na', True):\n"
     ]
    },
    {
     "data": {
      "text/plain": [
       "<seaborn.axisgrid.FacetGrid at 0x70649970b6a0>"
      ]
     },
     "execution_count": 8,
     "metadata": {},
     "output_type": "execute_result"
    },
    {
     "data": {
      "text/plain": [
       "<Figure size 2000x500 with 0 Axes>"
      ]
     },
     "metadata": {},
     "output_type": "display_data"
    },
    {
     "data": {
      "image/png": "[encoded data removed]",
      "text/plain": [
       "<Figure size 500x500 with 1 Axes>"
      ]
     },
     "metadata": {},
     "output_type": "display_data"
    }
   ],
   "source": [
    "plt.figure(figsize=(20,5))\n",
    "crimes_by_year = df.groupby('YEAR').count()\n",
    "print(crimes_by_year)\n",
    "sns.displot(df, x='YEAR', bins=50)"
   ]
  },
  {
   "cell_type": "markdown",
   "metadata": {},
   "source": [
    "## Now lets see the number of crimes by neighbourhood"
   ]
  },
  {
   "cell_type": "code",
   "execution_count": 9,
   "metadata": {},
   "outputs": [
    {
     "name": "stdout",
     "output_type": "stream",
     "text": [
      "                             TYPE    YEAR   MONTH     DAY    HOUR  MINUTE  \\\n",
      "NEIGHBOURHOOD                                                               \n",
      "Arbutus Ridge                9517    9517    9517    9517    9517    9517   \n",
      "Central Business District  242667  242667  242667  242667  242667  242667   \n",
      "Dunbar-Southlands           11625   11625   11625   11625   11625   11625   \n",
      "Fairview                    54572   54572   54572   54572   54572   54572   \n",
      "Grandview-Woodland          50061   50061   50061   50061   50061   50061   \n",
      "Hastings-Sunrise            30751   30751   30751   30751   30751   30751   \n",
      "Kensington-Cedar Cottage    42401   42401   42401   42401   42401   42401   \n",
      "Kerrisdale                  11666   11666   11666   11666   11666   11666   \n",
      "Killarney                   16836   16836   16836   16836   16836   16836   \n",
      "Kitsilano                   43419   43419   43419   43419   43419   43419   \n",
      "Marpole                     22488   22488   22488   22488   22488   22488   \n",
      "Mount Pleasant              56341   56341   56341   56341   56341   56341   \n",
      "Musqueam                     1035    1035    1035    1035    1035    1035   \n",
      "Oakridge                    13272   13272   13272   13272   13272   13272   \n",
      "Renfrew-Collingwood         48438   48438   48438   48438   48438   48438   \n",
      "Riley Park                  21250   21250   21250   21250   21250   21250   \n",
      "Shaughnessy                  8830    8830    8830    8830    8830    8830   \n",
      "South Cambie                 9109    9109    9109    9109    9109    9109   \n",
      "Stanley Park                 5711    5711    5711    5711    5711    5711   \n",
      "Strathcona                  57641   57641   57641   57641   57641   57641   \n",
      "Sunset                      30080   30080   30080   30080   30080   30080   \n",
      "Victoria-Fraserview         17915   17915   17915   17915   17915   17915   \n",
      "West End                    80132   80132   80132   80132   80132   80132   \n",
      "West Point Grey              9697    9697    9697    9697    9697    9697   \n",
      "\n",
      "                           HUNDRED_BLOCK       X       Y  \n",
      "NEIGHBOURHOOD                                             \n",
      "Arbutus Ridge                       9517    9517    9517  \n",
      "Central Business District         242667  242667  242667  \n",
      "Dunbar-Southlands                  11625   11625   11625  \n",
      "Fairview                           54572   54572   54572  \n",
      "Grandview-Woodland                 50061   50061   50061  \n",
      "Hastings-Sunrise                   30751   30751   30751  \n",
      "Kensington-Cedar Cottage           42401   42401   42401  \n",
      "Kerrisdale                         11666   11666   11666  \n",
      "Killarney                          16836   16836   16836  \n",
      "Kitsilano                          43419   43419   43419  \n",
      "Marpole                            22488   22488   22488  \n",
      "Mount Pleasant                     56341   56341   56341  \n",
      "Musqueam                            1035    1035    1035  \n",
      "Oakridge                           13272   13272   13272  \n",
      "Renfrew-Collingwood                48438   48438   48438  \n",
      "Riley Park                         21250   21250   21250  \n",
      "Shaughnessy                         8830    8830    8830  \n",
      "South Cambie                        9109    9109    9109  \n",
      "Stanley Park                        5711    5711    5711  \n",
      "Strathcona                         57641   57641   57641  \n",
      "Sunset                             30080   30080   30080  \n",
      "Victoria-Fraserview                17915   17915   17915  \n",
      "West End                           80132   80132   80132  \n",
      "West Point Grey                     9697    9697    9697  \n"
     ]
    },
    {
     "data": {
      "text/plain": [
       "<Axes: xlabel='NEIGHBOURHOOD', ylabel='count'>"
      ]
     },
     "execution_count": 9,
     "metadata": {},
     "output_type": "execute_result"
    },
    {
     "data": {
      "image/png": "[encoded data removed]",
      "text/plain": [
       "<Figure size 5000x500 with 1 Axes>"
      ]
     },
     "metadata": {},
     "output_type": "display_data"
    }
   ],
   "source": [
    "neigh_count = df.groupby('NEIGHBOURHOOD').count()\n",
    "print(neigh_count)\n",
    "fig = plt.figure(figsize=(50,5))\n",
    "sns.countplot(df, x='NEIGHBOURHOOD')\n"
   ]
  },
  {
   "cell_type": "markdown",
   "metadata": {},
   "source": [
    "## Central Business District \n",
    "This area seems to account for a large proportion of the crimes being committed. While Musqueam has a very low number of crimes compared to the others. Let's explore these two phenomen further. \n",
    "\n",
    "### lets see what types of crimes are being committed."
   ]
  },
  {
   "cell_type": "code",
   "execution_count": 10,
   "metadata": {},
   "outputs": [
    {
     "name": "stdout",
     "output_type": "stream",
     "text": [
      "                                                     YEAR  MONTH    DAY  \\\n",
      "TYPE                                                                      \n",
      "Break and Enter Commercial                          13666  13666  13666   \n",
      "Break and Enter Residential/Other                    4375   4375   4375   \n",
      "Homicide                                               78     78     78   \n",
      "Mischief                                            30656  30656  30656   \n",
      "Offence Against a Person                            23725  23725  23725   \n",
      "Other Theft                                         78583  78583  78583   \n",
      "Theft from Vehicle                                  72338  72338  72338   \n",
      "Theft of Bicycle                                     9895   9895   9895   \n",
      "Theft of Vehicle                                     4830   4830   4830   \n",
      "Vehicle Collision or Pedestrian Struck (with Fa...     56     56     56   \n",
      "Vehicle Collision or Pedestrian Struck (with In...   4465   4465   4465   \n",
      "\n",
      "                                                     HOUR  MINUTE  \\\n",
      "TYPE                                                                \n",
      "Break and Enter Commercial                          13666   13666   \n",
      "Break and Enter Residential/Other                    4375    4375   \n",
      "Homicide                                               78      78   \n",
      "Mischief                                            30656   30656   \n",
      "Offence Against a Person                            23725   23725   \n",
      "Other Theft                                         78583   78583   \n",
      "Theft from Vehicle                                  72338   72338   \n",
      "Theft of Bicycle                                     9895    9895   \n",
      "Theft of Vehicle                                     4830    4830   \n",
      "Vehicle Collision or Pedestrian Struck (with Fa...     56      56   \n",
      "Vehicle Collision or Pedestrian Struck (with In...   4465    4465   \n",
      "\n",
      "                                                    HUNDRED_BLOCK  \\\n",
      "TYPE                                                                \n",
      "Break and Enter Commercial                                  13666   \n",
      "Break and Enter Residential/Other                            4375   \n",
      "Homicide                                                       78   \n",
      "Mischief                                                    30656   \n",
      "Offence Against a Person                                    23725   \n",
      "Other Theft                                                 78583   \n",
      "Theft from Vehicle                                          72338   \n",
      "Theft of Bicycle                                             9895   \n",
      "Theft of Vehicle                                             4830   \n",
      "Vehicle Collision or Pedestrian Struck (with Fa...             56   \n",
      "Vehicle Collision or Pedestrian Struck (with In...           4465   \n",
      "\n",
      "                                                    NEIGHBOURHOOD      X  \\\n",
      "TYPE                                                                       \n",
      "Break and Enter Commercial                                  13666  13666   \n",
      "Break and Enter Residential/Other                            4375   4375   \n",
      "Homicide                                                       78     78   \n",
      "Mischief                                                    30656  30656   \n",
      "Offence Against a Person                                    23725  23725   \n",
      "Other Theft                                                 78583  78583   \n",
      "Theft from Vehicle                                          72338  72338   \n",
      "Theft of Bicycle                                             9895   9895   \n",
      "Theft of Vehicle                                             4830   4830   \n",
      "Vehicle Collision or Pedestrian Struck (with Fa...             56     56   \n",
      "Vehicle Collision or Pedestrian Struck (with In...           4465   4465   \n",
      "\n",
      "                                                        Y  \n",
      "TYPE                                                       \n",
      "Break and Enter Commercial                          13666  \n",
      "Break and Enter Residential/Other                    4375  \n",
      "Homicide                                               78  \n",
      "Mischief                                            30656  \n",
      "Offence Against a Person                            23725  \n",
      "Other Theft                                         78583  \n",
      "Theft from Vehicle                                  72338  \n",
      "Theft of Bicycle                                     9895  \n",
      "Theft of Vehicle                                     4830  \n",
      "Vehicle Collision or Pedestrian Struck (with Fa...     56  \n",
      "Vehicle Collision or Pedestrian Struck (with In...   4465  \n"
     ]
    },
    {
     "data": {
      "text/plain": [
       "<Axes: xlabel='TYPE', ylabel='count'>"
      ]
     },
     "execution_count": 10,
     "metadata": {},
     "output_type": "execute_result"
    },
    {
     "data": {
      "image/png": "[encoded data removed]",
      "text/plain": [
       "<Figure size 5000x500 with 1 Axes>"
      ]
     },
     "metadata": {},
     "output_type": "display_data"
    }
   ],
   "source": [
    "cbd = df[df['NEIGHBOURHOOD'] == 'Central Business District']\n",
    "print(cbd.groupby('TYPE').count())\n",
    "fig = plt.figure(figsize=(50,5))\n",
    "sns.countplot(cbd, x='TYPE')\n",
    "\n"
   ]
  },
  {
   "cell_type": "code",
   "execution_count": 11,
   "metadata": {},
   "outputs": [
    {
     "name": "stdout",
     "output_type": "stream",
     "text": [
      "60\n",
      "length of frame: 79081\n",
      "HUNDRED_BLOCK\n",
      "OFFSET TO PROTECT PRIVACY    79081\n",
      "7XX GRANVILLE ST              7667\n",
      "X NK_LOC ST                   6374\n",
      "31XX GRANDVIEW HWY            5928\n",
      "7XX W GEORGIA ST              5640\n",
      "                             ...  \n",
      "12XX RICHARDS ST               840\n",
      "10XX HOMER ST                  839\n",
      "1XX W BROADWAY AVE             822\n",
      "6XX W CORDOVA ST               822\n",
      "9XX ROBSON ST                  821\n",
      "Name: count, Length: 100, dtype: int64\n"
     ]
    }
   ],
   "source": [
    "count = cbd.groupby('HUNDRED_BLOCK').count().idxmax()\n",
    "print(pd.options.display.max_rows)\n",
    "\n",
    "# Looks like we have some bad data here, we don't know where the crime occurred in these cases and its the biggest block\n",
    "# we will want to keep this data, \n",
    "print(\"length of frame: {}\".format(len(df[df['HUNDRED_BLOCK'] == 'OFFSET TO PROTECT PRIVACY' ])))\n",
    "print(df['HUNDRED_BLOCK'].value_counts().head(100))\n"
   ]
  },
  {
   "cell_type": "markdown",
   "metadata": {},
   "source": [
    "## OFFSET TO PROTECT PRIVACY\n",
    "This column is the only one that will have impact, lets drop them for now as we still will have a lot of data we can revist later.\n",
    "\n",
    "## Update\n",
    "\n",
    "We should not drop this column and just leave it as is, we will have null results in our target classes otherwise."
   ]
  },
  {
   "cell_type": "code",
   "execution_count": 12,
   "metadata": {},
   "outputs": [],
   "source": [
    "# df['HUNDRED_BLOCK'].replace('OFFSET TO PROTECT PRIVACY', np.nan, inplace=True)\n",
    "# print(\"total records before dropping na {}\".format(len(df)))\n",
    "# df.dropna(inplace=True)\n",
    "# print(\"total records after dropping na {}\".format(len(df)))"
   ]
  },
  {
   "cell_type": "markdown",
   "metadata": {},
   "source": [
    "# Lets take at the numeric data types for correlation"
   ]
  },
  {
   "cell_type": "code",
   "execution_count": 13,
   "metadata": {},
   "outputs": [
    {
     "ename": "SyntaxError",
     "evalue": "invalid decimal literal (3447561869.py, line 2)",
     "output_type": "error",
     "traceback": [
      "\u001b[0;36m  Cell \u001b[0;32mIn[13], line 2\u001b[0;36m\u001b[0m\n\u001b[0;31m    123213fds\u001b[0m\n\u001b[0m         ^\u001b[0m\n\u001b[0;31mSyntaxError\u001b[0m\u001b[0;31m:\u001b[0m invalid decimal literal\n"
     ]
    }
   ],
   "source": [
    "sns.pairplot(df)"
   ]
  },
  {
   "cell_type": "code",
   "execution_count": null,
   "metadata": {},
   "outputs": [],
   "source": [
    "corr = df[['YEAR','MONTH', 'DAY', 'HOUR', 'X', 'Y']].corr()"
   ]
  },
  {
   "cell_type": "code",
   "execution_count": null,
   "metadata": {},
   "outputs": [
    {
     "data": {
      "text/plain": [
       "<Axes: >"
      ]
     },
     "execution_count": 348,
     "metadata": {},
     "output_type": "execute_result"
    },
    {
     "data": {
      "image/png": "[encoded data removed]",
      "text/plain": [
       "<Figure size 640x480 with 2 Axes>"
      ]
     },
     "metadata": {},
     "output_type": "display_data"
    }
   ],
   "source": [
    "sns.heatmap(corr, cmap='viridis')"
   ]
  },
  {
   "cell_type": "markdown",
   "metadata": {},
   "source": [
    "## From what we can see there is not a high level of correlation between any of the columns\n",
    "## Lets create some dummies for our string categories\n",
    "first we should add a row for street that removes the address number and XX from the hundred block to reduce our number of columns\n",
    "\n",
    "## Interesting Find\n",
    "There does seem to be a small correlation between HOUR and X Y cordinates, this may be something fun to explore in the future.\n",
    "For now lets continue on with our original hypothesis. "
   ]
  },
  {
   "cell_type": "code",
   "execution_count": 14,
   "metadata": {},
   "outputs": [],
   "source": [
    "df['STREET'] = df['HUNDRED_BLOCK'].replace(to_replace=r'(\\d+)(XX)', value='', regex=True)"
   ]
  },
  {
   "cell_type": "code",
   "execution_count": 15,
   "metadata": {},
   "outputs": [
    {
     "name": "stderr",
     "output_type": "stream",
     "text": [
      "/tmp/ipykernel_31557/419211907.py:6: FutureWarning: A value is trying to be set on a copy of a DataFrame or Series through chained assignment using an inplace method.\n",
      "The behavior will change in pandas 3.0. This inplace method will never work because the intermediate object on which we are setting values always behaves as a copy.\n",
      "\n",
      "For example, when doing 'df[col].method(value, inplace=True)', try using 'df.method({col: value}, inplace=True)' or df[col] = df[col].method(value) instead, to perform the operation inplace on the original object.\n",
      "\n",
      "\n",
      "  df['STREET'].replace(to_replace=street, value=np.nan, inplace=True)\n"
     ]
    },
    {
     "data": {
      "text/plain": [
       "STREET\n",
       "OFFSET TO PROTECT PRIVACY     79081\n",
       " GRANVILLE ST                 30270\n",
       " ROBSON ST                    17418\n",
       " W GEORGIA ST                 16267\n",
       " E HASTINGS ST                15339\n",
       "                              ...  \n",
       "6X WORTHINGTON PL                 3\n",
       "E 39TH AVE / SHERBROOKE ST        3\n",
       "OAK ST / LAURIER AVE              3\n",
       "W 40TH AVE / WEST BLVD            3\n",
       "X E 45TH AVE                      3\n",
       "Name: count, Length: 6456, dtype: int64"
      ]
     },
     "execution_count": 15,
     "metadata": {},
     "output_type": "execute_result"
    }
   ],
   "source": [
    "counts = df.groupby('STREET').count()\n",
    "less = counts[counts['TYPE'] < 3].index\n",
    "less\n",
    "\n",
    "for street in less:\n",
    "    df['STREET'].replace(to_replace=street, value=np.nan, inplace=True)\n",
    "\n",
    "df['STREET'].value_counts()\n"
   ]
  },
  {
   "cell_type": "code",
   "execution_count": 18,
   "metadata": {},
   "outputs": [],
   "source": [
    "len(df)\n",
    "df = df.dropna()\n",
    "len(df)\n",
    "\n",
    "df = df.sample(n=20000, random_state=101)\n"
   ]
  },
  {
   "cell_type": "code",
   "execution_count": 19,
   "metadata": {},
   "outputs": [
    {
     "name": "stdout",
     "output_type": "stream",
     "text": [
      "<class 'pandas.core.frame.DataFrame'>\n",
      "Index: 20000 entries, 127463 to 601879\n",
      "Data columns (total 23 columns):\n",
      " #   Column                     Non-Null Count  Dtype\n",
      "---  ------                     --------------  -----\n",
      " 0   Central Business District  20000 non-null  bool \n",
      " 1   Dunbar-Southlands          20000 non-null  bool \n",
      " 2   Fairview                   20000 non-null  bool \n",
      " 3   Grandview-Woodland         20000 non-null  bool \n",
      " 4   Hastings-Sunrise           20000 non-null  bool \n",
      " 5   Kensington-Cedar Cottage   20000 non-null  bool \n",
      " 6   Kerrisdale                 20000 non-null  bool \n",
      " 7   Killarney                  20000 non-null  bool \n",
      " 8   Kitsilano                  20000 non-null  bool \n",
      " 9   Marpole                    20000 non-null  bool \n",
      " 10  Mount Pleasant             20000 non-null  bool \n",
      " 11  Musqueam                   20000 non-null  bool \n",
      " 12  Oakridge                   20000 non-null  bool \n",
      " 13  Renfrew-Collingwood        20000 non-null  bool \n",
      " 14  Riley Park                 20000 non-null  bool \n",
      " 15  Shaughnessy                20000 non-null  bool \n",
      " 16  South Cambie               20000 non-null  bool \n",
      " 17  Stanley Park               20000 non-null  bool \n",
      " 18  Strathcona                 20000 non-null  bool \n",
      " 19  Sunset                     20000 non-null  bool \n",
      " 20  Victoria-Fraserview        20000 non-null  bool \n",
      " 21  West End                   20000 non-null  bool \n",
      " 22  West Point Grey            20000 non-null  bool \n",
      "dtypes: bool(23)\n",
      "memory usage: 605.5 KB\n"
     ]
    }
   ],
   "source": [
    "street_dummies = pd.get_dummies(df['STREET'], drop_first=True)\n",
    "neighbourhood_dummies = pd.get_dummies(df['NEIGHBOURHOOD'], drop_first=True)\n",
    "neighbourhood_dummies.info()\n",
    "df = pd.concat([df.drop(['NEIGHBOURHOOD','HUNDRED_BLOCK', 'STREET'], axis=1), neighbourhood_dummies, street_dummies], axis=1)"
   ]
  },
  {
   "cell_type": "markdown",
   "metadata": {},
   "source": [
    "# Train the model\n",
    "Data is prepared, lets see if we can train the model    "
   ]
  },
  {
   "cell_type": "code",
   "execution_count": 22,
   "metadata": {},
   "outputs": [],
   "source": [
    "from sklearn.model_selection import train_test_split\n",
    "from sklearn.preprocessing import MinMaxScaler\n",
    "from sklearn.metrics import classification_report, confusion_matrix\n",
    "import tensorflow as tf\n",
    "from tensorflow.keras.models import Sequential\n",
    "from tensorflow.keras.layers import Dense,Dropout\n",
    "\n",
    "crime_labels = pd.get_dummies(df['TYPE'])\n",
    "x = df.drop(['TYPE'], axis=1)\n",
    "y = crime_labels\n",
    "num_classes = y.nunique()\n",
    "\n"
   ]
  },
  {
   "cell_type": "code",
   "execution_count": 59,
   "metadata": {},
   "outputs": [
    {
     "name": "stdout",
     "output_type": "stream",
     "text": [
      "        YEAR  MONTH  DAY  HOUR  MINUTE            X             Y  \\\n",
      "666581  2019      4   27     0       0  484914.0156  5.456905e+06   \n",
      "\n",
      "        Central Business District  Dunbar-Southlands  Fairview  ...  \\\n",
      "666581                      False              False     False  ...   \n",
      "\n",
      "        X W 4TH AVE  X W 5TH AVE  X W 7TH AVE  X W 8TH AVE  X W CORDOVA ST  \\\n",
      "666581        False        False        False        False           False   \n",
      "\n",
      "        X W HASTINGS ST  X WATER ST  YUKON ST / W 12TH AVE  \\\n",
      "666581            False       False                  False   \n",
      "\n",
      "        YUKON ST / W BROADWAY AVE  YUKON ST / W KING EDWARD AVE  \n",
      "666581                      False                         False  \n",
      "\n",
      "[1 rows x 2093 columns]\n"
     ]
    }
   ],
   "source": [
    "x_train, x_test, y_train, y_test = train_test_split(x, y, random_state=101, test_size=.1)\n",
    "scaler = MinMaxScaler()\n",
    "x_train = scaler.fit_transform(x_train)\n",
    "x_test = scaler.transform(x_test)\n"
   ]
  },
  {
   "cell_type": "code",
   "execution_count": 26,
   "metadata": {},
   "outputs": [],
   "source": [
    "model = Sequential()\n",
    "\n",
    "model.add(Dense(units=2094, activation='relu'))\n",
    "\n",
    "model.add(Dense(units=11, activation='softmax'))\n",
    "\n",
    "model.compile(loss='categorical_crossentropy', optimizer='adam', metrics=['accuracy'])\n"
   ]
  },
  {
   "cell_type": "markdown",
   "metadata": {},
   "source": [
    "# Add early stopping"
   ]
  },
  {
   "cell_type": "code",
   "execution_count": 28,
   "metadata": {},
   "outputs": [],
   "source": [
    "from tensorflow.keras.callbacks import EarlyStopping\n",
    "early_stop = EarlyStopping(monitor='val_loss', mode='min', verbose=1, patience=25)"
   ]
  },
  {
   "cell_type": "markdown",
   "metadata": {},
   "source": [
    "# Fit the model"
   ]
  },
  {
   "cell_type": "code",
   "execution_count": 87,
   "metadata": {},
   "outputs": [
    {
     "name": "stdout",
     "output_type": "stream",
     "text": [
      "Epoch 1/25\n",
      "\u001b[1m563/563\u001b[0m \u001b[32m━━━━━━━━━━━━━━━━━━━━\u001b[0m\u001b[37m\u001b[0m \u001b[1m5s\u001b[0m 8ms/step - accuracy: 0.7307 - loss: 0.7417 - val_accuracy: 0.4465 - val_loss: 1.8667\n",
      "Epoch 2/25\n",
      "\u001b[1m563/563\u001b[0m \u001b[32m━━━━━━━━━━━━━━━━━━━━\u001b[0m\u001b[37m\u001b[0m \u001b[1m5s\u001b[0m 8ms/step - accuracy: 0.7450 - loss: 0.7043 - val_accuracy: 0.4495 - val_loss: 1.9130\n",
      "Epoch 3/25\n",
      "\u001b[1m563/563\u001b[0m \u001b[32m━━━━━━━━━━━━━━━━━━━━\u001b[0m\u001b[37m\u001b[0m \u001b[1m5s\u001b[0m 8ms/step - accuracy: 0.7551 - loss: 0.6798 - val_accuracy: 0.4395 - val_loss: 2.0072\n",
      "Epoch 4/25\n",
      "\u001b[1m563/563\u001b[0m \u001b[32m━━━━━━━━━━━━━━━━━━━━\u001b[0m\u001b[37m\u001b[0m \u001b[1m5s\u001b[0m 8ms/step - accuracy: 0.7682 - loss: 0.6370 - val_accuracy: 0.4550 - val_loss: 2.0565\n",
      "Epoch 5/25\n",
      "\u001b[1m563/563\u001b[0m \u001b[32m━━━━━━━━━━━━━━━━━━━━\u001b[0m\u001b[37m\u001b[0m \u001b[1m5s\u001b[0m 8ms/step - accuracy: 0.7821 - loss: 0.5992 - val_accuracy: 0.4420 - val_loss: 2.1132\n",
      "Epoch 6/25\n",
      "\u001b[1m563/563\u001b[0m \u001b[32m━━━━━━━━━━━━━━━━━━━━\u001b[0m\u001b[37m\u001b[0m \u001b[1m5s\u001b[0m 8ms/step - accuracy: 0.7866 - loss: 0.5824 - val_accuracy: 0.4430 - val_loss: 2.1998\n",
      "Epoch 7/25\n",
      "\u001b[1m563/563\u001b[0m \u001b[32m━━━━━━━━━━━━━━━━━━━━\u001b[0m\u001b[37m\u001b[0m \u001b[1m5s\u001b[0m 8ms/step - accuracy: 0.7925 - loss: 0.5630 - val_accuracy: 0.4420 - val_loss: 2.2511\n",
      "Epoch 8/25\n",
      "\u001b[1m563/563\u001b[0m \u001b[32m━━━━━━━━━━━━━━━━━━━━\u001b[0m\u001b[37m\u001b[0m \u001b[1m5s\u001b[0m 8ms/step - accuracy: 0.8062 - loss: 0.5331 - val_accuracy: 0.4460 - val_loss: 2.2962\n",
      "Epoch 9/25\n",
      "\u001b[1m563/563\u001b[0m \u001b[32m━━━━━━━━━━━━━━━━━━━━\u001b[0m\u001b[37m\u001b[0m \u001b[1m5s\u001b[0m 8ms/step - accuracy: 0.8127 - loss: 0.5121 - val_accuracy: 0.4350 - val_loss: 2.3885\n",
      "Epoch 10/25\n",
      "\u001b[1m563/563\u001b[0m \u001b[32m━━━━━━━━━━━━━━━━━━━━\u001b[0m\u001b[37m\u001b[0m \u001b[1m5s\u001b[0m 8ms/step - accuracy: 0.8263 - loss: 0.4831 - val_accuracy: 0.4385 - val_loss: 2.4342\n",
      "Epoch 11/25\n",
      "\u001b[1m563/563\u001b[0m \u001b[32m━━━━━━━━━━━━━━━━━━━━\u001b[0m\u001b[37m\u001b[0m \u001b[1m5s\u001b[0m 8ms/step - accuracy: 0.8367 - loss: 0.4583 - val_accuracy: 0.4325 - val_loss: 2.5181\n",
      "Epoch 12/25\n",
      "\u001b[1m563/563\u001b[0m \u001b[32m━━━━━━━━━━━━━━━━━━━━\u001b[0m\u001b[37m\u001b[0m \u001b[1m5s\u001b[0m 8ms/step - accuracy: 0.8359 - loss: 0.4596 - val_accuracy: 0.4325 - val_loss: 2.5612\n",
      "Epoch 13/25\n",
      "\u001b[1m563/563\u001b[0m \u001b[32m━━━━━━━━━━━━━━━━━━━━\u001b[0m\u001b[37m\u001b[0m \u001b[1m5s\u001b[0m 8ms/step - accuracy: 0.8427 - loss: 0.4371 - val_accuracy: 0.4350 - val_loss: 2.6655\n",
      "Epoch 14/25\n",
      "\u001b[1m563/563\u001b[0m \u001b[32m━━━━━━━━━━━━━━━━━━━━\u001b[0m\u001b[37m\u001b[0m \u001b[1m5s\u001b[0m 8ms/step - accuracy: 0.8493 - loss: 0.4176 - val_accuracy: 0.4335 - val_loss: 2.7194\n",
      "Epoch 15/25\n",
      "\u001b[1m563/563\u001b[0m \u001b[32m━━━━━━━━━━━━━━━━━━━━\u001b[0m\u001b[37m\u001b[0m \u001b[1m5s\u001b[0m 8ms/step - accuracy: 0.8531 - loss: 0.4120 - val_accuracy: 0.4295 - val_loss: 2.7484\n",
      "Epoch 16/25\n",
      "\u001b[1m563/563\u001b[0m \u001b[32m━━━━━━━━━━━━━━━━━━━━\u001b[0m\u001b[37m\u001b[0m \u001b[1m5s\u001b[0m 8ms/step - accuracy: 0.8605 - loss: 0.3937 - val_accuracy: 0.4410 - val_loss: 2.8348\n",
      "Epoch 17/25\n",
      "\u001b[1m563/563\u001b[0m \u001b[32m━━━━━━━━━━━━━━━━━━━━\u001b[0m\u001b[37m\u001b[0m \u001b[1m5s\u001b[0m 8ms/step - accuracy: 0.8621 - loss: 0.3856 - val_accuracy: 0.4280 - val_loss: 2.9123\n",
      "Epoch 18/25\n",
      "\u001b[1m563/563\u001b[0m \u001b[32m━━━━━━━━━━━━━━━━━━━━\u001b[0m\u001b[37m\u001b[0m \u001b[1m5s\u001b[0m 8ms/step - accuracy: 0.8687 - loss: 0.3638 - val_accuracy: 0.4185 - val_loss: 2.9531\n",
      "Epoch 19/25\n",
      "\u001b[1m563/563\u001b[0m \u001b[32m━━━━━━━━━━━━━━━━━━━━\u001b[0m\u001b[37m\u001b[0m \u001b[1m5s\u001b[0m 8ms/step - accuracy: 0.8705 - loss: 0.3664 - val_accuracy: 0.4365 - val_loss: 3.0499\n",
      "Epoch 20/25\n",
      "\u001b[1m563/563\u001b[0m \u001b[32m━━━━━━━━━━━━━━━━━━━━\u001b[0m\u001b[37m\u001b[0m \u001b[1m5s\u001b[0m 8ms/step - accuracy: 0.8731 - loss: 0.3539 - val_accuracy: 0.4260 - val_loss: 3.0895\n",
      "Epoch 21/25\n",
      "\u001b[1m563/563\u001b[0m \u001b[32m━━━━━━━━━━━━━━━━━━━━\u001b[0m\u001b[37m\u001b[0m \u001b[1m5s\u001b[0m 8ms/step - accuracy: 0.8791 - loss: 0.3394 - val_accuracy: 0.4160 - val_loss: 3.1727\n",
      "Epoch 22/25\n",
      "\u001b[1m563/563\u001b[0m \u001b[32m━━━━━━━━━━━━━━━━━━━━\u001b[0m\u001b[37m\u001b[0m \u001b[1m5s\u001b[0m 8ms/step - accuracy: 0.8825 - loss: 0.3254 - val_accuracy: 0.4205 - val_loss: 3.2010\n",
      "Epoch 23/25\n",
      "\u001b[1m563/563\u001b[0m \u001b[32m━━━━━━━━━━━━━━━━━━━━\u001b[0m\u001b[37m\u001b[0m \u001b[1m5s\u001b[0m 8ms/step - accuracy: 0.8879 - loss: 0.3208 - val_accuracy: 0.4175 - val_loss: 3.2877\n",
      "Epoch 24/25\n",
      "\u001b[1m563/563\u001b[0m \u001b[32m━━━━━━━━━━━━━━━━━━━━\u001b[0m\u001b[37m\u001b[0m \u001b[1m5s\u001b[0m 8ms/step - accuracy: 0.8936 - loss: 0.3048 - val_accuracy: 0.4270 - val_loss: 3.3318\n",
      "Epoch 25/25\n",
      "\u001b[1m563/563\u001b[0m \u001b[32m━━━━━━━━━━━━━━━━━━━━\u001b[0m\u001b[37m\u001b[0m \u001b[1m5s\u001b[0m 8ms/step - accuracy: 0.8965 - loss: 0.2953 - val_accuracy: 0.4165 - val_loss: 3.4093\n",
      "Epoch 25: early stopping\n"
     ]
    },
    {
     "data": {
      "text/plain": [
       "<keras.src.callbacks.history.History at 0x70631327a6e0>"
      ]
     },
     "execution_count": 87,
     "metadata": {},
     "output_type": "execute_result"
    }
   ],
   "source": [
    "\n",
    "model.fit(x=x_train, y=y_train, epochs=25, validation_data=(x_test, y_test), verbose=1, callbacks=[early_stop])\n"
   ]
  },
  {
   "cell_type": "code",
   "execution_count": 88,
   "metadata": {},
   "outputs": [
    {
     "data": {
      "text/plain": [
       "<Axes: >"
      ]
     },
     "execution_count": 88,
     "metadata": {},
     "output_type": "execute_result"
    },
    {
     "data": {
      "image/png": "[encoded data removed]",
      "text/plain": [
       "<Figure size 640x480 with 1 Axes>"
      ]
     },
     "metadata": {},
     "output_type": "display_data"
    }
   ],
   "source": [
    "model_loss = pd.DataFrame(model.history.history)\n",
    "model_loss.plot()"
   ]
  },
  {
   "cell_type": "code",
   "execution_count": 89,
   "metadata": {},
   "outputs": [
    {
     "name": "stdout",
     "output_type": "stream",
     "text": [
      "\u001b[1m63/63\u001b[0m \u001b[32m━━━━━━━━━━━━━━━━━━━━\u001b[0m\u001b[37m\u001b[0m \u001b[1m0s\u001b[0m 795us/step\n"
     ]
    }
   ],
   "source": [
    "predict_y = model.predict(x_test) \n",
    "pred =np.argmax(predict_y,axis=1)\n"
   ]
  },
  {
   "cell_type": "code",
   "execution_count": 90,
   "metadata": {},
   "outputs": [
    {
     "data": {
      "text/plain": [
       "array([[ 19,   9,   0,  18,   0,  39,  41,   6,   3,   0],\n",
       "       [ 10,  30,   0,  16,   0,  22,  49,   7,   9,   0],\n",
       "       [  0,   0,   0,   0,   2,   0,   0,   0,   0,   0],\n",
       "       [ 13,  20,   0,  44,   0,  56,  94,  14,  10,   3],\n",
       "       [  0,   0,   0,   0, 190,   0,   0,   0,   0,   0],\n",
       "       [ 14,  28,   0,  39,   0, 265,  96,  18,   5,   2],\n",
       "       [ 28,  45,   0,  74,   0, 131, 254,  18,  22,   2],\n",
       "       [  1,   7,   0,   4,   0,  36,  18,   4,   3,   1],\n",
       "       [  3,  15,   0,   9,   0,  20,  33,   3,   5,   0],\n",
       "       [  0,   7,   0,  10,   0,  17,   9,   4,   4,  22]])"
      ]
     },
     "execution_count": 90,
     "metadata": {},
     "output_type": "execute_result"
    }
   ],
   "source": [
    "# Specify the list of classes based on unique values in y_test and pred\n",
    "from tensorflow.keras.utils import to_categorical\n",
    "\n",
    "# Convert the argmax result to one-hot encoded format\n",
    "pred_one_hot = to_categorical(np.argmax(predict_y, axis=1), num_classes=11)\n",
    "\n",
    "# Confusion Matrix\n",
    "confusion_matrix(np.argmax(y_test, axis=1), np.argmax(pred_one_hot, axis=1))\n",
    "\n"
   ]
  },
  {
   "cell_type": "markdown",
   "metadata": {},
   "source": [
    "## 10 Epochs\n",
    "array([[  654,   212,     0,   672,     0,  1013,  2367,     0,     0,\n",
    "            0,     4],\n",
    "       [  180,   994,     0,   359,     0,  2106,  3740,     1,     0,\n",
    "            0,    12],\n",
    "       [    0,     0,     0,     0,    33,     0,     0,     0,     0,\n",
    "            0,     0],\n",
    "       [  469,   390,     0,  1320,     0,  3335,  5466,     3,     0,\n",
    "            0,     5],\n",
    "       [    0,     0,     0,     0,  7844,     0,     0,     0,     0,\n",
    "            0,     0],\n",
    "       [  255,   581,     0,   814,     0, 12569,  8245,     3,     0,\n",
    "            0,     7],\n",
    "       [  335,   626,     0,   826,     0,  4776, 18002,     2,     0,\n",
    "            0,     5],\n",
    "       [   47,    85,     0,    72,     0,  1217,  2351,     7,     0,\n",
    "            0,     1],\n",
    "       [   60,   251,     0,   178,     0,   735,  3359,     0,     0,\n",
    "            0,     0],\n",
    "       [    3,     4,     0,     4,     0,    14,     7,     0,     0,\n",
    "            0,     0],\n",
    "       [   78,   290,     0,   225,     0,  1796,   522,     0,     0,\n",
    "            0,    15]])\n"
   ]
  },
  {
   "cell_type": "markdown",
   "metadata": {},
   "source": [
    "## 10 Epochs\n",
    "array([[    0,   622,  3273,  7668,     0,     0,     0,   672],\n",
    "       [    0,   516,  3648,  6338,     0,     0,     0,   407],\n",
    "       [    0,   639,  9592, 11858,     0,     0,     0,   524],\n",
    "       [    0,   571,  5804, 17729,     0,     0,     0,   400],\n",
    "       [    0,    84,  1091,  2578,     0,     0,     0,    34],\n",
    "       [    0,   157,   736,  3584,     0,     0,     0,   166],\n",
    "       [    0,     3,    15,    21,     0,     0,     0,     6],\n",
    "       [    0,   159,  1176,  1263,     0,     0,     0,   304]])\n",
    "\n",
    "## "
   ]
  },
  {
   "cell_type": "code",
   "execution_count": 112,
   "metadata": {},
   "outputs": [
    {
     "name": "stdout",
     "output_type": "stream",
     "text": [
      "              precision    recall  f1-score   support\n",
      "\n",
      "           0       0.22      0.14      0.17       135\n",
      "           1       0.19      0.21      0.20       143\n",
      "           2       0.00      0.00      0.00         2\n",
      "           3       0.21      0.17      0.19       254\n",
      "           4       0.99      1.00      0.99       190\n",
      "           5       0.45      0.57      0.50       467\n",
      "           6       0.43      0.44      0.43       574\n",
      "           7       0.05      0.05      0.05        74\n",
      "           8       0.08      0.06      0.07        88\n",
      "          10       0.73      0.30      0.43        73\n",
      "\n",
      "    accuracy                           0.42      2000\n",
      "   macro avg       0.33      0.29      0.30      2000\n",
      "weighted avg       0.41      0.42      0.41      2000\n",
      "\n"
     ]
    },
    {
     "name": "stderr",
     "output_type": "stream",
     "text": [
      "/home/gil/miniconda3/envs/van-crime/lib/python3.10/site-packages/sklearn/metrics/_classification.py:1509: UndefinedMetricWarning: Precision is ill-defined and being set to 0.0 in labels with no predicted samples. Use `zero_division` parameter to control this behavior.\n",
      "  _warn_prf(average, modifier, f\"{metric.capitalize()} is\", len(result))\n",
      "/home/gil/miniconda3/envs/van-crime/lib/python3.10/site-packages/sklearn/metrics/_classification.py:1509: UndefinedMetricWarning: Precision is ill-defined and being set to 0.0 in labels with no predicted samples. Use `zero_division` parameter to control this behavior.\n",
      "  _warn_prf(average, modifier, f\"{metric.capitalize()} is\", len(result))\n",
      "/home/gil/miniconda3/envs/van-crime/lib/python3.10/site-packages/sklearn/metrics/_classification.py:1509: UndefinedMetricWarning: Precision is ill-defined and being set to 0.0 in labels with no predicted samples. Use `zero_division` parameter to control this behavior.\n",
      "  _warn_prf(average, modifier, f\"{metric.capitalize()} is\", len(result))\n"
     ]
    }
   ],
   "source": [
    "print(classification_report(np.argmax(y_test, axis=1), np.argmax(pred_one_hot, axis=1)))\n",
    "labels = [\n",
    "    'Break and Enter Commercial', \n",
    "    'Break and Enter Residential/Other',\n",
    "    'Homicide', \n",
    "    'Mischief', \n",
    "    'Offence Against a Person', \n",
    "    'Other Theft',\n",
    "    'Theft from Vehicle',\n",
    "    'Theft of Bicycle', \n",
    "    'Theft of Vehicle',\n",
    "    'Vehicle Collision or Pedestrian Struck (with Fatality)',\n",
    "    'Vehicle Collision or Pedestrian Struck (with Injury)'\n",
    "]"
   ]
  },
  {
   "cell_type": "code",
   "execution_count": 114,
   "metadata": {},
   "outputs": [
    {
     "name": "stdout",
     "output_type": "stream",
     "text": [
      "\u001b[1m1/1\u001b[0m \u001b[32m━━━━━━━━━━━━━━━━━━━━\u001b[0m\u001b[37m\u001b[0m \u001b[1m0s\u001b[0m 9ms/step\n",
      "Other Theft\n"
     ]
    }
   ],
   "source": [
    "\n",
    "## Prediction for row 371257\n",
    "pred_crime = model.predict(x_test[4].reshape(1, -1))  # Reshape the input sample and apply the scaler\n",
    "pred = np.argmax(pred_crime, axis=1)\n",
    "print(labels[pred[0]])\n"
   ]
  },
  {
   "cell_type": "markdown",
   "metadata": {},
   "source": [
    "# Labels\n",
    "    0   => 'Break and Enter Commercial', \n",
    "    1   => 'Break and Enter Residential/Other',\n",
    "    2   => 'Homicide', \n",
    "    3   => 'Mischief', \n",
    "    4   => 'Offence Against a Person', \n",
    "    5   => 'Other Theft',\n",
    "    6   => 'Theft from Vehicle',\n",
    "    7   => 'Theft of Bicycle', \n",
    "    8   => 'Theft of Vehicle',\n",
    "    9   => 'Vehicle Collision or Pedestrian Struck (with Fatality)',\n",
    "    10  => 'Vehicle Collision or Pedestrian Struck (with Injury)'"
   ]
  },
  {
   "cell_type": "code",
   "execution_count": 110,
   "metadata": {},
   "outputs": [],
   "source": []
  },
  {
   "cell_type": "markdown",
   "metadata": {},
   "source": [
    "Looks like we got one right, but that is likely an outlier"
   ]
  },
  {
   "cell_type": "code",
   "execution_count": 111,
   "metadata": {},
   "outputs": [
    {
     "name": "stdout",
     "output_type": "stream",
     "text": [
      "\u001b[1m1/1\u001b[0m \u001b[32m━━━━━━━━━━━━━━━━━━━━\u001b[0m\u001b[37m\u001b[0m \u001b[1m0s\u001b[0m 9ms/step\n",
      "Break and Enter Residential/Other\n"
     ]
    }
   ],
   "source": [
    "## Prediction for row 127463\n",
    "pred_crime = model.predict(x_test[0].reshape(1, -1))  # Reshape the input sample and apply the scaler\n",
    "pred = np.argmax(pred_crime, axis=1)\n",
    "print(labels[pred[0]])\n",
    "# break and enter residential"
   ]
  },
  {
   "cell_type": "code",
   "execution_count": 106,
   "metadata": {},
   "outputs": [
    {
     "data": {
      "text/plain": [
       "Break and Enter Commercial                                False\n",
       "Break and Enter Residential/Other                         False\n",
       "Homicide                                                  False\n",
       "Mischief                                                   True\n",
       "Offence Against a Person                                  False\n",
       "Other Theft                                               False\n",
       "Theft from Vehicle                                        False\n",
       "Theft of Bicycle                                          False\n",
       "Theft of Vehicle                                          False\n",
       "Vehicle Collision or Pedestrian Struck (with Fatality)    False\n",
       "Vehicle Collision or Pedestrian Struck (with Injury)      False\n",
       "Name: 127463, dtype: bool"
      ]
     },
     "execution_count": 106,
     "metadata": {},
     "output_type": "execute_result"
    }
   ],
   "source": [
    "y.loc[127463]"
   ]
  },
  {
   "cell_type": "markdown",
   "metadata": {},
   "source": [
    "# This one is incorrect (expected)\n",
    "Our F1 score was only .41 which is not the greatest, we can't expect to get great predictions from this model. "
   ]
  },
  {
   "cell_type": "markdown",
   "metadata": {},
   "source": [
    "# Conclusion\n",
    "\n",
    "Based on the metrics in the confusion matrix and classication report, we don't enough correlating data to predict a viable output. \n",
    "The prediction accuracy never gets above a wighted f1 score of .4 making its predictions unstatisfactory. \n",
    "We would need to request additional data to\n"
   ]
  },
  {
   "cell_type": "markdown",
   "metadata": {},
   "source": []
  }
 ],
 "metadata": {
  "kernelspec": {
   "display_name": "tf-gpu",
   "language": "python",
   "name": "python3"
  },
  "language_info": {
   "codemirror_mode": {
    "name": "ipython",
    "version": 3
   },
   "file_extension": ".py",
   "mimetype": "text/x-python",
   "name": "python",
   "nbconvert_exporter": "python",
   "pygments_lexer": "ipython3",
   "version": "3.10.14"
  }
 },
 "nbformat": 4,
 "nbformat_minor": 2
}
